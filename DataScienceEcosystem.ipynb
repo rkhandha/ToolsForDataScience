{
 "cells": [
  {
   "cell_type": "markdown",
   "id": "572c033c-eb07-496f-ac69-387c077b0161",
   "metadata": {},
   "source": [
    "# Data Science Tools and Ecosystem"
   ]
  },
  {
   "cell_type": "markdown",
   "id": "3917dd8b-08ce-4168-8f5a-b956eeabb852",
   "metadata": {},
   "source": [
    "In this notebook, Data Science Tools and Ecosystem are summarized."
   ]
  },
  {
   "cell_type": "markdown",
   "id": "1b279083-c7d9-40bf-a5df-7913d3342a66",
   "metadata": {},
   "source": [
    "Some of the popular languages that Data Scientists use are:\n",
    "\n",
    "1. Python\n",
    "2. R\n",
    "3. Java\n",
    "4. Scala\n",
    "5. C++"
   ]
  },
  {
   "cell_type": "markdown",
   "id": "739fd53b-9b19-42e3-aa3a-18981eaeceb3",
   "metadata": {},
   "source": [
    "Some of the commonly used libraries used by Data Scientists include:\n",
    "\n",
    "1. Pandas\n",
    "2. NumPy\n",
    "3. SciPy\n",
    "4. Matplotlib. "
   ]
  },
  {
   "cell_type": "markdown",
   "id": "fdad8e8c-9dc5-497c-8ee0-74be400f85fb",
   "metadata": {},
   "source": [
    "| Data Science Tools|\n",
    "| ------------- |\n",
    "| JupyterLab|\n",
    "| JupyterLite|\n",
    "| VS Code|\n",
    "| Google Colaboratory|"
   ]
  },
  {
   "cell_type": "markdown",
   "id": "dcb1411e-f58b-424c-91c8-a814a6189648",
   "metadata": {},
   "source": [
    "### Below are a few examples of evaluating arithmetic expressions in Python"
   ]
  },
  {
   "cell_type": "code",
   "execution_count": 8,
   "id": "4aa7ed0d-b37d-4239-94cd-bc9046f7c367",
   "metadata": {},
   "outputs": [
    {
     "data": {
      "text/plain": [
       "17"
      ]
     },
     "execution_count": 8,
     "metadata": {},
     "output_type": "execute_result"
    }
   ],
   "source": [
    "# This a simple arithmetic expression to mutiply then add integers.\n",
    "(3*4)+5"
   ]
  },
  {
   "cell_type": "code",
   "execution_count": 10,
   "id": "8f1fac68-e38c-474d-bd73-1f1b4ec909cb",
   "metadata": {},
   "outputs": [
    {
     "data": {
      "text/plain": [
       "3.3333333333333335"
      ]
     },
     "execution_count": 10,
     "metadata": {},
     "output_type": "execute_result"
    }
   ],
   "source": [
    "# This will convert 200 minutes to hours by diving by 60.\n",
    "200/60"
   ]
  },
  {
   "cell_type": "markdown",
   "id": "cda6d03c-301e-43e0-b4cf-71c90beea946",
   "metadata": {},
   "source": [
    "**Objectives:**\n",
    "- List popular languages for Data Science\n",
    "- List used libraries used by Data Scientists\n",
    "- Show arithmetic expressions\n",
    "- Learn Markdown Language\n",
    "- Learn Jupyter Notebook Environment"
   ]
  },
  {
   "cell_type": "markdown",
   "id": "8e71b9da-d1cb-452f-865b-44e2ebefd166",
   "metadata": {},
   "source": [
    "## Author:\n",
    "Rekha Khandhadia\n"
   ]
  },
  {
   "cell_type": "code",
   "execution_count": null,
   "id": "ad93b4f0-0c4f-43d6-82fe-32bf445b03a8",
   "metadata": {},
   "outputs": [],
   "source": []
  }
 ],
 "metadata": {
  "kernelspec": {
   "display_name": "Python [conda env:base] *",
   "language": "python",
   "name": "conda-base-py"
  },
  "language_info": {
   "codemirror_mode": {
    "name": "ipython",
    "version": 3
   },
   "file_extension": ".py",
   "mimetype": "text/x-python",
   "name": "python",
   "nbconvert_exporter": "python",
   "pygments_lexer": "ipython3",
   "version": "3.12.7"
  }
 },
 "nbformat": 4,
 "nbformat_minor": 5
}
